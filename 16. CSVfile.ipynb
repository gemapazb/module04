{
 "cells": [
  {
   "cell_type": "code",
   "execution_count": 6,
   "id": "b814a2e0",
   "metadata": {},
   "outputs": [
    {
     "name": "stdout",
     "output_type": "stream",
     "text": [
      "[['Author, book'], [], ['J R R tolkien, The Hobbit'], [], ['Lynne Truss, Eats, Shoots & Leaves'], []]\n"
     ]
    }
   ],
   "source": [
    "#Gema paz barcenas\n",
    "#16.1 books.csv\n",
    "#16.2 \n",
    "import csv\n",
    "books = [\n",
    "        [\"Author, book\"],\n",
    "        [\"J R R tolkien, The Hobbit\"],\n",
    "        [\"Lynne Truss, Eats, Shoots & Leaves\"]\n",
    "]\n",
    "\n",
    "with open('books', 'wt') as fout:\n",
    "    csvout = csv.writer(fout)\n",
    "    csvout.writerows(books)\n",
    "with open ('books', 'rt') as fin:\n",
    "    cin = csv.reader(fin)\n",
    "    books_from_file = [row for row in cin]\n",
    "    \n",
    "print(books_from_file)"
   ]
  }
 ],
 "metadata": {
  "kernelspec": {
   "display_name": "Python 3 (ipykernel)",
   "language": "python",
   "name": "python3"
  },
  "language_info": {
   "codemirror_mode": {
    "name": "ipython",
    "version": 3
   },
   "file_extension": ".py",
   "mimetype": "text/x-python",
   "name": "python",
   "nbconvert_exporter": "python",
   "pygments_lexer": "ipython3",
   "version": "3.9.13"
  }
 },
 "nbformat": 4,
 "nbformat_minor": 5
}
